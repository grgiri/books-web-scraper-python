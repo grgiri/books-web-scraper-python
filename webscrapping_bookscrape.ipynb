{
  "nbformat": 4,
  "nbformat_minor": 0,
  "metadata": {
    "colab": {
      "provenance": [],
      "collapsed_sections": [
        "iO4Wa1oDlSgi",
        "8AnvaP2rllnq",
        "syUbbP9pmZ87"
      ],
      "authorship_tag": "ABX9TyOCHg/iF79PRc9HyuNq1u96"
    },
    "kernelspec": {
      "name": "python3",
      "display_name": "Python 3"
    },
    "language_info": {
      "name": "python"
    }
  },
  "cells": [
    {
      "cell_type": "markdown",
      "source": [
        "\n",
        "# Web Scraping Books Data\n",
        "\n",
        "This notebook extracts book information from [Books to Scrape](https://books.toscrape.com/).\n",
        "\n",
        "It retrieves book names, prices, ratings, and availability, along with their categories.\n",
        "\n",
        "The books are available in random in home page.This project scrapes the categories available and its links to get list of books available in each category .\n"
      ],
      "metadata": {
        "id": "Xap8vVrEkWfz"
      }
    },
    {
      "cell_type": "markdown",
      "source": [
        "## 1. Configuration\n",
        "\n",
        "\n",
        "\n",
        "1.   Import necessary libraries.\n",
        "2.   Set the source URL\n",
        "3.   Initialize the data structure for storing book details."
      ],
      "metadata": {
        "id": "iO4Wa1oDlSgi"
      }
    },
    {
      "cell_type": "code",
      "execution_count": null,
      "metadata": {
        "id": "t3ktoyMbusBU"
      },
      "outputs": [],
      "source": [
        "# Importing necessary libraries\n",
        "\n",
        "import requests\n",
        "from bs4 import BeautifulSoup\n",
        "import pandas as pd"
      ]
    },
    {
      "cell_type": "code",
      "source": [
        "# Source URL\n",
        "source_url = \"https://books.toscrape.com/\""
      ],
      "metadata": {
        "id": "C4ml-_B6peLj"
      },
      "execution_count": null,
      "outputs": []
    },
    {
      "cell_type": "code",
      "source": [
        "# Dictionary to store book details\n",
        "books ={\"Name\":[],\n",
        "        \"Category\":[],\n",
        "        \"Price\":[],\n",
        "        \"Rating\":[],\n",
        "        \"Availability\":[]}"
      ],
      "metadata": {
        "id": "vu-F0yPiSgGH"
      },
      "execution_count": null,
      "outputs": []
    },
    {
      "cell_type": "markdown",
      "source": [
        "## 2. Retrieve Category Links\n",
        "\n",
        "function to get category names and links from the homepage."
      ],
      "metadata": {
        "id": "8AnvaP2rllnq"
      }
    },
    {
      "cell_type": "code",
      "source": [
        "def get_categories(base_url):\n",
        "    response = requests.get(base_url)\n",
        "    response.raise_for_status()  # Raise an error for bad responses\n",
        "    soup = BeautifulSoup(response.content, \"html.parser\")\n",
        "    sublink = soup.find(\"ul\", class_=\"nav nav-list\")\n",
        "\n",
        "    categories = []\n",
        "    links = []\n",
        "\n",
        "    for a in sublink.find_all(\"a\"):\n",
        "        categories.append(a.text.strip())\n",
        "        links.append(a.get(\"href\"))\n",
        "\n",
        "    # Skip the first item (usually 'Books') as it’s a header\n",
        "    return categories[1:], links[1:]\n",
        "\n",
        "categories, category_links = get_categories(source_url)\n",
        "print(\"Categories found:\", categories)\n",
        "print(\"Links to Categories:\",category_links)"
      ],
      "metadata": {
        "colab": {
          "base_uri": "https://localhost:8080/"
        },
        "id": "P5AwZx6Kl0LU",
        "outputId": "d43d3c6c-5d31-4bc3-ef36-6ffb811486b0"
      },
      "execution_count": null,
      "outputs": [
        {
          "output_type": "stream",
          "name": "stdout",
          "text": [
            "Categories found: ['Travel', 'Mystery', 'Historical Fiction', 'Sequential Art', 'Classics', 'Philosophy', 'Romance', 'Womens Fiction', 'Fiction', 'Childrens', 'Religion', 'Nonfiction', 'Music', 'Default', 'Science Fiction', 'Sports and Games', 'Add a comment', 'Fantasy', 'New Adult', 'Young Adult', 'Science', 'Poetry', 'Paranormal', 'Art', 'Psychology', 'Autobiography', 'Parenting', 'Adult Fiction', 'Humor', 'Horror', 'History', 'Food and Drink', 'Christian Fiction', 'Business', 'Biography', 'Thriller', 'Contemporary', 'Spirituality', 'Academic', 'Self Help', 'Historical', 'Christian', 'Suspense', 'Short Stories', 'Novels', 'Health', 'Politics', 'Cultural', 'Erotica', 'Crime']\n",
            "Links to Categories: ['catalogue/category/books/travel_2/index.html', 'catalogue/category/books/mystery_3/index.html', 'catalogue/category/books/historical-fiction_4/index.html', 'catalogue/category/books/sequential-art_5/index.html', 'catalogue/category/books/classics_6/index.html', 'catalogue/category/books/philosophy_7/index.html', 'catalogue/category/books/romance_8/index.html', 'catalogue/category/books/womens-fiction_9/index.html', 'catalogue/category/books/fiction_10/index.html', 'catalogue/category/books/childrens_11/index.html', 'catalogue/category/books/religion_12/index.html', 'catalogue/category/books/nonfiction_13/index.html', 'catalogue/category/books/music_14/index.html', 'catalogue/category/books/default_15/index.html', 'catalogue/category/books/science-fiction_16/index.html', 'catalogue/category/books/sports-and-games_17/index.html', 'catalogue/category/books/add-a-comment_18/index.html', 'catalogue/category/books/fantasy_19/index.html', 'catalogue/category/books/new-adult_20/index.html', 'catalogue/category/books/young-adult_21/index.html', 'catalogue/category/books/science_22/index.html', 'catalogue/category/books/poetry_23/index.html', 'catalogue/category/books/paranormal_24/index.html', 'catalogue/category/books/art_25/index.html', 'catalogue/category/books/psychology_26/index.html', 'catalogue/category/books/autobiography_27/index.html', 'catalogue/category/books/parenting_28/index.html', 'catalogue/category/books/adult-fiction_29/index.html', 'catalogue/category/books/humor_30/index.html', 'catalogue/category/books/horror_31/index.html', 'catalogue/category/books/history_32/index.html', 'catalogue/category/books/food-and-drink_33/index.html', 'catalogue/category/books/christian-fiction_34/index.html', 'catalogue/category/books/business_35/index.html', 'catalogue/category/books/biography_36/index.html', 'catalogue/category/books/thriller_37/index.html', 'catalogue/category/books/contemporary_38/index.html', 'catalogue/category/books/spirituality_39/index.html', 'catalogue/category/books/academic_40/index.html', 'catalogue/category/books/self-help_41/index.html', 'catalogue/category/books/historical_42/index.html', 'catalogue/category/books/christian_43/index.html', 'catalogue/category/books/suspense_44/index.html', 'catalogue/category/books/short-stories_45/index.html', 'catalogue/category/books/novels_46/index.html', 'catalogue/category/books/health_47/index.html', 'catalogue/category/books/politics_48/index.html', 'catalogue/category/books/cultural_49/index.html', 'catalogue/category/books/erotica_50/index.html', 'catalogue/category/books/crime_51/index.html']\n"
          ]
        }
      ]
    },
    {
      "cell_type": "markdown",
      "source": [
        "## 3. Scrape Book Data by Category\n",
        "\n",
        "For each category, navigating through pagination and scraping book details."
      ],
      "metadata": {
        "id": "syUbbP9pmZ87"
      }
    },
    {
      "cell_type": "code",
      "source": [
        "def scrape_category(category_name, category_link, base_url):\n",
        "    url = base_url + category_link\n",
        "    page_num = 1\n",
        "\n",
        "    while True:\n",
        "        response = requests.get(url)\n",
        "        response.raise_for_status()\n",
        "        soup = BeautifulSoup(response.content, \"html.parser\")\n",
        "\n",
        "        ol = soup.find(\"ol\")\n",
        "        articles = ol.find_all(\"article\", class_=\"product_pod\")\n",
        "\n",
        "        for art in articles:\n",
        "            name = art.find(\"h3\").find(\"a\")[\"title\"]\n",
        "            books[\"Name\"].append(name)\n",
        "\n",
        "            price = art.find(\"p\", class_=\"price_color\").get_text()\n",
        "            books[\"Price\"].append(price)\n",
        "\n",
        "            rating = art.find(\"p\")['class'][1]\n",
        "            books[\"Rating\"].append(rating)\n",
        "\n",
        "            availability = art.find(\"p\", class_=\"instock availability\").get_text().strip()\n",
        "            books[\"Availability\"].append(availability)\n",
        "\n",
        "            books[\"Category\"].append(category_name)\n",
        "\n",
        "        # Check if there is a next page\n",
        "        pagination = soup.find(\"li\", class_=\"next\")\n",
        "        if pagination:\n",
        "            next_page = pagination.find(\"a\").get(\"href\")\n",
        "            if page_num == 1:\n",
        "                url = url.replace(\"index.html\", next_page)\n",
        "            else:\n",
        "                url = url.replace(f\"page-{page_num}.html\", next_page)\n",
        "            page_num += 1\n",
        "        else:\n",
        "            break"
      ],
      "metadata": {
        "id": "SSByoLawmotk"
      },
      "execution_count": null,
      "outputs": []
    },
    {
      "cell_type": "code",
      "source": [
        "for cat, link in zip(categories, category_links):\n",
        "    print(f\"Scraping category: {cat}\")\n",
        "    scrape_category(cat, link, source_url)"
      ],
      "metadata": {
        "colab": {
          "base_uri": "https://localhost:8080/"
        },
        "id": "0CoRbuB9ni9j",
        "outputId": "bd39592b-0862-4060-d14b-2d86c849e7e8"
      },
      "execution_count": null,
      "outputs": [
        {
          "output_type": "stream",
          "name": "stdout",
          "text": [
            "Scraping category: Travel\n",
            "Scraping category: Mystery\n",
            "Scraping category: Historical Fiction\n",
            "Scraping category: Sequential Art\n",
            "Scraping category: Classics\n",
            "Scraping category: Philosophy\n",
            "Scraping category: Romance\n",
            "Scraping category: Womens Fiction\n",
            "Scraping category: Fiction\n",
            "Scraping category: Childrens\n",
            "Scraping category: Religion\n",
            "Scraping category: Nonfiction\n",
            "Scraping category: Music\n",
            "Scraping category: Default\n",
            "Scraping category: Science Fiction\n",
            "Scraping category: Sports and Games\n",
            "Scraping category: Add a comment\n",
            "Scraping category: Fantasy\n",
            "Scraping category: New Adult\n",
            "Scraping category: Young Adult\n",
            "Scraping category: Science\n",
            "Scraping category: Poetry\n",
            "Scraping category: Paranormal\n",
            "Scraping category: Art\n",
            "Scraping category: Psychology\n",
            "Scraping category: Autobiography\n",
            "Scraping category: Parenting\n",
            "Scraping category: Adult Fiction\n",
            "Scraping category: Humor\n",
            "Scraping category: Horror\n",
            "Scraping category: History\n",
            "Scraping category: Food and Drink\n",
            "Scraping category: Christian Fiction\n",
            "Scraping category: Business\n",
            "Scraping category: Biography\n",
            "Scraping category: Thriller\n",
            "Scraping category: Contemporary\n",
            "Scraping category: Spirituality\n",
            "Scraping category: Academic\n",
            "Scraping category: Self Help\n",
            "Scraping category: Historical\n",
            "Scraping category: Christian\n",
            "Scraping category: Suspense\n",
            "Scraping category: Short Stories\n",
            "Scraping category: Novels\n",
            "Scraping category: Health\n",
            "Scraping category: Politics\n",
            "Scraping category: Cultural\n",
            "Scraping category: Erotica\n",
            "Scraping category: Crime\n"
          ]
        }
      ]
    },
    {
      "cell_type": "markdown",
      "source": [
        "## 4. Save Data to EXCEL\n",
        "\n",
        "Converting the collected data into a Pandas DataFrame and saving it to a EXCEL file."
      ],
      "metadata": {
        "id": "6mZT_RVrn5jr"
      }
    },
    {
      "cell_type": "code",
      "source": [
        "df = pd.DataFrame(books)\n",
        "df.to_excel(\"bookscrape.xlsx\", index=False)\n",
        "print(\"Data saved to bookscrape.xlsx\")"
      ],
      "metadata": {
        "colab": {
          "base_uri": "https://localhost:8080/"
        },
        "id": "wmHWUCV-oETz",
        "outputId": "4f17d958-e42e-429a-f7ae-328dbb98b289"
      },
      "execution_count": null,
      "outputs": [
        {
          "output_type": "stream",
          "name": "stdout",
          "text": [
            "Data saved to bookscrape.xlsx\n"
          ]
        }
      ]
    },
    {
      "cell_type": "markdown",
      "source": [
        "## 5. Display Data\n",
        "\n",
        "Show the first few rows of the DataFrame to verify the scraped data."
      ],
      "metadata": {
        "id": "SYyo1PuYoJ-L"
      }
    },
    {
      "cell_type": "code",
      "source": [
        "df.head()"
      ],
      "metadata": {
        "colab": {
          "base_uri": "https://localhost:8080/",
          "height": 206
        },
        "id": "r8SSL2iAoLjr",
        "outputId": "c297b4c9-3fca-48d0-b985-d82237605f2f"
      },
      "execution_count": null,
      "outputs": [
        {
          "output_type": "execute_result",
          "data": {
            "text/plain": [
              "                                                Name Category   Price Rating  \\\n",
              "0                            It's Only the Himalayas   Travel  £45.17    Two   \n",
              "1  Full Moon over Noah’s Ark: An Odyssey to Mount...   Travel  £49.43   Four   \n",
              "2  See America: A Celebration of Our National Par...   Travel  £48.87  Three   \n",
              "3  Vagabonding: An Uncommon Guide to the Art of L...   Travel  £36.94    Two   \n",
              "4                               Under the Tuscan Sun   Travel  £37.33  Three   \n",
              "\n",
              "  Availability  \n",
              "0     In stock  \n",
              "1     In stock  \n",
              "2     In stock  \n",
              "3     In stock  \n",
              "4     In stock  "
            ],
            "text/html": [
              "\n",
              "  <div id=\"df-a66c9148-3ff8-4ec5-9b82-3b510fee9171\" class=\"colab-df-container\">\n",
              "    <div>\n",
              "<style scoped>\n",
              "    .dataframe tbody tr th:only-of-type {\n",
              "        vertical-align: middle;\n",
              "    }\n",
              "\n",
              "    .dataframe tbody tr th {\n",
              "        vertical-align: top;\n",
              "    }\n",
              "\n",
              "    .dataframe thead th {\n",
              "        text-align: right;\n",
              "    }\n",
              "</style>\n",
              "<table border=\"1\" class=\"dataframe\">\n",
              "  <thead>\n",
              "    <tr style=\"text-align: right;\">\n",
              "      <th></th>\n",
              "      <th>Name</th>\n",
              "      <th>Category</th>\n",
              "      <th>Price</th>\n",
              "      <th>Rating</th>\n",
              "      <th>Availability</th>\n",
              "    </tr>\n",
              "  </thead>\n",
              "  <tbody>\n",
              "    <tr>\n",
              "      <th>0</th>\n",
              "      <td>It's Only the Himalayas</td>\n",
              "      <td>Travel</td>\n",
              "      <td>£45.17</td>\n",
              "      <td>Two</td>\n",
              "      <td>In stock</td>\n",
              "    </tr>\n",
              "    <tr>\n",
              "      <th>1</th>\n",
              "      <td>Full Moon over Noah’s Ark: An Odyssey to Mount...</td>\n",
              "      <td>Travel</td>\n",
              "      <td>£49.43</td>\n",
              "      <td>Four</td>\n",
              "      <td>In stock</td>\n",
              "    </tr>\n",
              "    <tr>\n",
              "      <th>2</th>\n",
              "      <td>See America: A Celebration of Our National Par...</td>\n",
              "      <td>Travel</td>\n",
              "      <td>£48.87</td>\n",
              "      <td>Three</td>\n",
              "      <td>In stock</td>\n",
              "    </tr>\n",
              "    <tr>\n",
              "      <th>3</th>\n",
              "      <td>Vagabonding: An Uncommon Guide to the Art of L...</td>\n",
              "      <td>Travel</td>\n",
              "      <td>£36.94</td>\n",
              "      <td>Two</td>\n",
              "      <td>In stock</td>\n",
              "    </tr>\n",
              "    <tr>\n",
              "      <th>4</th>\n",
              "      <td>Under the Tuscan Sun</td>\n",
              "      <td>Travel</td>\n",
              "      <td>£37.33</td>\n",
              "      <td>Three</td>\n",
              "      <td>In stock</td>\n",
              "    </tr>\n",
              "  </tbody>\n",
              "</table>\n",
              "</div>\n",
              "    <div class=\"colab-df-buttons\">\n",
              "\n",
              "  <div class=\"colab-df-container\">\n",
              "    <button class=\"colab-df-convert\" onclick=\"convertToInteractive('df-a66c9148-3ff8-4ec5-9b82-3b510fee9171')\"\n",
              "            title=\"Convert this dataframe to an interactive table.\"\n",
              "            style=\"display:none;\">\n",
              "\n",
              "  <svg xmlns=\"http://www.w3.org/2000/svg\" height=\"24px\" viewBox=\"0 -960 960 960\">\n",
              "    <path d=\"M120-120v-720h720v720H120Zm60-500h600v-160H180v160Zm220 220h160v-160H400v160Zm0 220h160v-160H400v160ZM180-400h160v-160H180v160Zm440 0h160v-160H620v160ZM180-180h160v-160H180v160Zm440 0h160v-160H620v160Z\"/>\n",
              "  </svg>\n",
              "    </button>\n",
              "\n",
              "  <style>\n",
              "    .colab-df-container {\n",
              "      display:flex;\n",
              "      gap: 12px;\n",
              "    }\n",
              "\n",
              "    .colab-df-convert {\n",
              "      background-color: #E8F0FE;\n",
              "      border: none;\n",
              "      border-radius: 50%;\n",
              "      cursor: pointer;\n",
              "      display: none;\n",
              "      fill: #1967D2;\n",
              "      height: 32px;\n",
              "      padding: 0 0 0 0;\n",
              "      width: 32px;\n",
              "    }\n",
              "\n",
              "    .colab-df-convert:hover {\n",
              "      background-color: #E2EBFA;\n",
              "      box-shadow: 0px 1px 2px rgba(60, 64, 67, 0.3), 0px 1px 3px 1px rgba(60, 64, 67, 0.15);\n",
              "      fill: #174EA6;\n",
              "    }\n",
              "\n",
              "    .colab-df-buttons div {\n",
              "      margin-bottom: 4px;\n",
              "    }\n",
              "\n",
              "    [theme=dark] .colab-df-convert {\n",
              "      background-color: #3B4455;\n",
              "      fill: #D2E3FC;\n",
              "    }\n",
              "\n",
              "    [theme=dark] .colab-df-convert:hover {\n",
              "      background-color: #434B5C;\n",
              "      box-shadow: 0px 1px 3px 1px rgba(0, 0, 0, 0.15);\n",
              "      filter: drop-shadow(0px 1px 2px rgba(0, 0, 0, 0.3));\n",
              "      fill: #FFFFFF;\n",
              "    }\n",
              "  </style>\n",
              "\n",
              "    <script>\n",
              "      const buttonEl =\n",
              "        document.querySelector('#df-a66c9148-3ff8-4ec5-9b82-3b510fee9171 button.colab-df-convert');\n",
              "      buttonEl.style.display =\n",
              "        google.colab.kernel.accessAllowed ? 'block' : 'none';\n",
              "\n",
              "      async function convertToInteractive(key) {\n",
              "        const element = document.querySelector('#df-a66c9148-3ff8-4ec5-9b82-3b510fee9171');\n",
              "        const dataTable =\n",
              "          await google.colab.kernel.invokeFunction('convertToInteractive',\n",
              "                                                    [key], {});\n",
              "        if (!dataTable) return;\n",
              "\n",
              "        const docLinkHtml = 'Like what you see? Visit the ' +\n",
              "          '<a target=\"_blank\" href=https://colab.research.google.com/notebooks/data_table.ipynb>data table notebook</a>'\n",
              "          + ' to learn more about interactive tables.';\n",
              "        element.innerHTML = '';\n",
              "        dataTable['output_type'] = 'display_data';\n",
              "        await google.colab.output.renderOutput(dataTable, element);\n",
              "        const docLink = document.createElement('div');\n",
              "        docLink.innerHTML = docLinkHtml;\n",
              "        element.appendChild(docLink);\n",
              "      }\n",
              "    </script>\n",
              "  </div>\n",
              "\n",
              "\n",
              "<div id=\"df-ddbdbeca-28c9-4441-97c0-4a68faede0f1\">\n",
              "  <button class=\"colab-df-quickchart\" onclick=\"quickchart('df-ddbdbeca-28c9-4441-97c0-4a68faede0f1')\"\n",
              "            title=\"Suggest charts\"\n",
              "            style=\"display:none;\">\n",
              "\n",
              "<svg xmlns=\"http://www.w3.org/2000/svg\" height=\"24px\"viewBox=\"0 0 24 24\"\n",
              "     width=\"24px\">\n",
              "    <g>\n",
              "        <path d=\"M19 3H5c-1.1 0-2 .9-2 2v14c0 1.1.9 2 2 2h14c1.1 0 2-.9 2-2V5c0-1.1-.9-2-2-2zM9 17H7v-7h2v7zm4 0h-2V7h2v10zm4 0h-2v-4h2v4z\"/>\n",
              "    </g>\n",
              "</svg>\n",
              "  </button>\n",
              "\n",
              "<style>\n",
              "  .colab-df-quickchart {\n",
              "      --bg-color: #E8F0FE;\n",
              "      --fill-color: #1967D2;\n",
              "      --hover-bg-color: #E2EBFA;\n",
              "      --hover-fill-color: #174EA6;\n",
              "      --disabled-fill-color: #AAA;\n",
              "      --disabled-bg-color: #DDD;\n",
              "  }\n",
              "\n",
              "  [theme=dark] .colab-df-quickchart {\n",
              "      --bg-color: #3B4455;\n",
              "      --fill-color: #D2E3FC;\n",
              "      --hover-bg-color: #434B5C;\n",
              "      --hover-fill-color: #FFFFFF;\n",
              "      --disabled-bg-color: #3B4455;\n",
              "      --disabled-fill-color: #666;\n",
              "  }\n",
              "\n",
              "  .colab-df-quickchart {\n",
              "    background-color: var(--bg-color);\n",
              "    border: none;\n",
              "    border-radius: 50%;\n",
              "    cursor: pointer;\n",
              "    display: none;\n",
              "    fill: var(--fill-color);\n",
              "    height: 32px;\n",
              "    padding: 0;\n",
              "    width: 32px;\n",
              "  }\n",
              "\n",
              "  .colab-df-quickchart:hover {\n",
              "    background-color: var(--hover-bg-color);\n",
              "    box-shadow: 0 1px 2px rgba(60, 64, 67, 0.3), 0 1px 3px 1px rgba(60, 64, 67, 0.15);\n",
              "    fill: var(--button-hover-fill-color);\n",
              "  }\n",
              "\n",
              "  .colab-df-quickchart-complete:disabled,\n",
              "  .colab-df-quickchart-complete:disabled:hover {\n",
              "    background-color: var(--disabled-bg-color);\n",
              "    fill: var(--disabled-fill-color);\n",
              "    box-shadow: none;\n",
              "  }\n",
              "\n",
              "  .colab-df-spinner {\n",
              "    border: 2px solid var(--fill-color);\n",
              "    border-color: transparent;\n",
              "    border-bottom-color: var(--fill-color);\n",
              "    animation:\n",
              "      spin 1s steps(1) infinite;\n",
              "  }\n",
              "\n",
              "  @keyframes spin {\n",
              "    0% {\n",
              "      border-color: transparent;\n",
              "      border-bottom-color: var(--fill-color);\n",
              "      border-left-color: var(--fill-color);\n",
              "    }\n",
              "    20% {\n",
              "      border-color: transparent;\n",
              "      border-left-color: var(--fill-color);\n",
              "      border-top-color: var(--fill-color);\n",
              "    }\n",
              "    30% {\n",
              "      border-color: transparent;\n",
              "      border-left-color: var(--fill-color);\n",
              "      border-top-color: var(--fill-color);\n",
              "      border-right-color: var(--fill-color);\n",
              "    }\n",
              "    40% {\n",
              "      border-color: transparent;\n",
              "      border-right-color: var(--fill-color);\n",
              "      border-top-color: var(--fill-color);\n",
              "    }\n",
              "    60% {\n",
              "      border-color: transparent;\n",
              "      border-right-color: var(--fill-color);\n",
              "    }\n",
              "    80% {\n",
              "      border-color: transparent;\n",
              "      border-right-color: var(--fill-color);\n",
              "      border-bottom-color: var(--fill-color);\n",
              "    }\n",
              "    90% {\n",
              "      border-color: transparent;\n",
              "      border-bottom-color: var(--fill-color);\n",
              "    }\n",
              "  }\n",
              "</style>\n",
              "\n",
              "  <script>\n",
              "    async function quickchart(key) {\n",
              "      const quickchartButtonEl =\n",
              "        document.querySelector('#' + key + ' button');\n",
              "      quickchartButtonEl.disabled = true;  // To prevent multiple clicks.\n",
              "      quickchartButtonEl.classList.add('colab-df-spinner');\n",
              "      try {\n",
              "        const charts = await google.colab.kernel.invokeFunction(\n",
              "            'suggestCharts', [key], {});\n",
              "      } catch (error) {\n",
              "        console.error('Error during call to suggestCharts:', error);\n",
              "      }\n",
              "      quickchartButtonEl.classList.remove('colab-df-spinner');\n",
              "      quickchartButtonEl.classList.add('colab-df-quickchart-complete');\n",
              "    }\n",
              "    (() => {\n",
              "      let quickchartButtonEl =\n",
              "        document.querySelector('#df-ddbdbeca-28c9-4441-97c0-4a68faede0f1 button');\n",
              "      quickchartButtonEl.style.display =\n",
              "        google.colab.kernel.accessAllowed ? 'block' : 'none';\n",
              "    })();\n",
              "  </script>\n",
              "</div>\n",
              "\n",
              "    </div>\n",
              "  </div>\n"
            ],
            "application/vnd.google.colaboratory.intrinsic+json": {
              "type": "dataframe",
              "variable_name": "df",
              "summary": "{\n  \"name\": \"df\",\n  \"rows\": 1000,\n  \"fields\": [\n    {\n      \"column\": \"Name\",\n      \"properties\": {\n        \"dtype\": \"string\",\n        \"num_unique_values\": 999,\n        \"samples\": [\n          \"America's Cradle of Quarterbacks: Western Pennsylvania's Football Factory from Johnny Unitas to Joe Montana\",\n          \"New Moon (Twilight #2)\",\n          \"I Had a Nice Time And Other Lies...: How to find love & sh*t like that\"\n        ],\n        \"semantic_type\": \"\",\n        \"description\": \"\"\n      }\n    },\n    {\n      \"column\": \"Category\",\n      \"properties\": {\n        \"dtype\": \"category\",\n        \"num_unique_values\": 50,\n        \"samples\": [\n          \"Default\",\n          \"Self Help\",\n          \"History\"\n        ],\n        \"semantic_type\": \"\",\n        \"description\": \"\"\n      }\n    },\n    {\n      \"column\": \"Price\",\n      \"properties\": {\n        \"dtype\": \"string\",\n        \"num_unique_values\": 903,\n        \"samples\": [\n          \"\\u00a316.28\",\n          \"\\u00a337.72\",\n          \"\\u00a329.82\"\n        ],\n        \"semantic_type\": \"\",\n        \"description\": \"\"\n      }\n    },\n    {\n      \"column\": \"Rating\",\n      \"properties\": {\n        \"dtype\": \"category\",\n        \"num_unique_values\": 5,\n        \"samples\": [\n          \"Four\",\n          \"Five\",\n          \"Three\"\n        ],\n        \"semantic_type\": \"\",\n        \"description\": \"\"\n      }\n    },\n    {\n      \"column\": \"Availability\",\n      \"properties\": {\n        \"dtype\": \"category\",\n        \"num_unique_values\": 1,\n        \"samples\": [\n          \"In stock\"\n        ],\n        \"semantic_type\": \"\",\n        \"description\": \"\"\n      }\n    }\n  ]\n}"
            }
          },
          "metadata": {},
          "execution_count": 23
        }
      ]
    }
  ]
}